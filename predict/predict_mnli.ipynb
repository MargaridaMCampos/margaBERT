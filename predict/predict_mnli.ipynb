{
 "cells": [
  {
   "cell_type": "code",
   "execution_count": 15,
   "metadata": {},
   "outputs": [],
   "source": [
    "import pandas as pd\n",
    "import numpy as np\n",
    "import torch\n",
    "import json\n",
    "import jsonlines\n",
    "from pathlib import Path\n",
    "import random\n",
    "from tqdm import tqdm"
   ]
  },
  {
   "cell_type": "code",
   "execution_count": 2,
   "metadata": {},
   "outputs": [],
   "source": [
    "def parse_mnli(path):\n",
    "    sentences_a = []\n",
    "    sentences_b = []\n",
    "    labels = []\n",
    "    with open(path, \"r+\", encoding=\"utf8\") as f:\n",
    "        for item in jsonlines.Reader(f):\n",
    "            sentences_a.append(item['sentence1'])\n",
    "            sentences_b.append(item['sentence2'])\n",
    "            labels.append(item['gold_label'])\n",
    "    \n",
    "    return sentences_a,sentences_b,labels"
   ]
  },
  {
   "cell_type": "code",
   "execution_count": 3,
   "metadata": {},
   "outputs": [],
   "source": [
    "val_a, val_b, val_labels = parse_mnli('./preproc_datasets/multinli_1.0_dev_matched.json')"
   ]
  },
  {
   "cell_type": "code",
   "execution_count": 4,
   "metadata": {},
   "outputs": [],
   "source": [
    "label_encode = {'contradiction': 0,\n",
    "                '-': 1,\n",
    "                'neutral': 2,\n",
    "                'entailment': 3}\n",
    "val_labels_encoding = [label_encode[label] for label in val_labels]"
   ]
  },
  {
   "cell_type": "code",
   "execution_count": 5,
   "metadata": {},
   "outputs": [],
   "source": [
    "from transformers import BertTokenizer\n",
    "# Load the BERT tokenizer.\n",
    "tokenizer = BertTokenizer.from_pretrained('dmis-lab/biobert-base-cased-v1.1', \n",
    "                                          do_lower_case=True)"
   ]
  },
  {
   "cell_type": "code",
   "execution_count": 6,
   "metadata": {},
   "outputs": [
    {
     "name": "stderr",
     "output_type": "stream",
     "text": [
      "Some weights of the model checkpoint at dmis-lab/biobert-base-cased-v1.1 were not used when initializing BertForSequenceClassification: ['cls.predictions.bias', 'cls.predictions.transform.dense.weight', 'cls.predictions.transform.dense.bias', 'cls.predictions.transform.LayerNorm.weight', 'cls.predictions.transform.LayerNorm.bias', 'cls.predictions.decoder.weight', 'cls.predictions.decoder.bias', 'cls.seq_relationship.weight', 'cls.seq_relationship.bias']\n",
      "- This IS expected if you are initializing BertForSequenceClassification from the checkpoint of a model trained on another task or with another architecture (e.g. initializing a BertForSequenceClassification model from a BertForPreTraining model).\n",
      "- This IS NOT expected if you are initializing BertForSequenceClassification from the checkpoint of a model that you expect to be exactly identical (initializing a BertForSequenceClassification model from a BertForSequenceClassification model).\n",
      "Some weights of BertForSequenceClassification were not initialized from the model checkpoint at dmis-lab/biobert-base-cased-v1.1 and are newly initialized: ['classifier.weight', 'classifier.bias']\n",
      "You should probably TRAIN this model on a down-stream task to be able to use it for predictions and inference.\n"
     ]
    },
    {
     "data": {
      "text/plain": [
       "<All keys matched successfully>"
      ]
     },
     "execution_count": 6,
     "metadata": {},
     "output_type": "execute_result"
    }
   ],
   "source": [
    "from transformers import BertForSequenceClassification\n",
    "\n",
    "model = BertForSequenceClassification.from_pretrained(\"dmis-lab/biobert-base-cased-v1.1\", num_labels = 4)\n",
    "checkpoint = torch.load('checkpoint_mnli_3epochs_seed.pt',map_location=torch.device('cpu'))\n",
    "model.load_state_dict(checkpoint['model_state_dict'])"
   ]
  },
  {
   "cell_type": "code",
   "execution_count": 7,
   "metadata": {},
   "outputs": [],
   "source": [
    "val_tokens = tokenizer(val_a,val_b, \n",
    "                       add_special_tokens=True,\n",
    "                       max_length=500,\n",
    "                       truncation=True, padding=True,return_tensors='pt')\n",
    "val_tokens['labels'] = val_labels_encoding"
   ]
  },
  {
   "cell_type": "code",
   "execution_count": 8,
   "metadata": {},
   "outputs": [
    {
     "data": {
      "text/plain": [
       "tensor([[  101,  1103,  1207,  ...,     0,     0,     0],\n",
       "        [  101,  1142,  1751,  ...,     0,     0,     0],\n",
       "        [  101, 14863,   178,  ...,     0,     0,     0],\n",
       "        ...,\n",
       "        [  101,  1921,   117,  ...,     0,     0,     0],\n",
       "        [  101,   172,  3161,  ...,     0,     0,     0],\n",
       "        [  101,   178,   112,  ...,     0,     0,     0]])"
      ]
     },
     "execution_count": 8,
     "metadata": {},
     "output_type": "execute_result"
    }
   ],
   "source": [
    "val_tokens['input_ids']"
   ]
  },
  {
   "cell_type": "code",
   "execution_count": null,
   "metadata": {},
   "outputs": [],
   "source": [
    "outputs = model(**val_tokens)"
   ]
  },
  {
   "cell_type": "code",
   "execution_count": 16,
   "metadata": {},
   "outputs": [
    {
     "name": "stderr",
     "output_type": "stream",
     "text": [
      "100%|██████████| 10000/10000 [23:37<00:00,  7.06it/s]\n"
     ]
    }
   ],
   "source": [
    "val_predictions = []\n",
    "for i in tqdm(range(len(val_a))):    \n",
    "    inputs = tokenizer(val_a[i], val_b[i], \n",
    "                           add_special_tokens=True,\n",
    "                           max_length=500,\n",
    "                           truncation=True, padding=True,return_tensors='pt')\n",
    "    output = model(**inputs)\n",
    "    pred = torch.argmax(output.logits)\n",
    "    val_predictions.append(int(pred))"
   ]
  },
  {
   "cell_type": "code",
   "execution_count": 20,
   "metadata": {},
   "outputs": [],
   "source": [
    "with open('pred_mnli_3epochs.txt', 'w') as f:\n",
    "    for item in val_predictions:\n",
    "        f.write(\"%s\\n\" % item)"
   ]
  },
  {
   "cell_type": "code",
   "execution_count": 22,
   "metadata": {},
   "outputs": [
    {
     "data": {
      "text/plain": [
       "array([[2483,   42,  374,  188],\n",
       "       [   0,    0,    0,    0],\n",
       "       [ 485,   79, 2394,  519],\n",
       "       [ 245,   64,  355, 2772]])"
      ]
     },
     "execution_count": 22,
     "metadata": {},
     "output_type": "execute_result"
    }
   ],
   "source": [
    "from sklearn.metrics import confusion_matrix\n",
    "\n",
    "confusion_matrix(val_predictions,val_labels_encoding)"
   ]
  },
  {
   "cell_type": "code",
   "execution_count": null,
   "metadata": {},
   "outputs": [],
   "source": []
  }
 ],
 "metadata": {
  "kernelspec": {
   "display_name": "Python 3",
   "language": "python",
   "name": "python3"
  },
  "language_info": {
   "codemirror_mode": {
    "name": "ipython",
    "version": 3
   },
   "file_extension": ".py",
   "mimetype": "text/x-python",
   "name": "python",
   "nbconvert_exporter": "python",
   "pygments_lexer": "ipython3",
   "version": "3.8.3"
  }
 },
 "nbformat": 4,
 "nbformat_minor": 4
}
