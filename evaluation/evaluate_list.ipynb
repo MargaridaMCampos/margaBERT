{
 "cells": [
  {
   "cell_type": "code",
   "execution_count": 1,
   "metadata": {},
   "outputs": [],
   "source": [
    "import numpy as np"
   ]
  },
  {
   "cell_type": "code",
   "execution_count": 2,
   "metadata": {},
   "outputs": [],
   "source": [
    "# Assuming n questions, pred and gold: n_sized list of lists"
   ]
  },
  {
   "cell_type": "code",
   "execution_count": 3,
   "metadata": {},
   "outputs": [],
   "source": [
    "pred = [['bank', 'spider', 'boat', 'fall'],\n",
    "       ['ant', 'boat', 'fall'],\n",
    "       ['sky', 'spider', 'boat', 'cat'],\n",
    "       ['spider', 'boat', 'fall']\n",
    "       ]\n",
    "\n",
    "gold = [['bank', 'boat', 'fall'],\n",
    "       ['ant', 'spider'],\n",
    "       ['sky', 'spider','cat'],\n",
    "       ['bank','fall']\n",
    "       ]"
   ]
  },
  {
   "cell_type": "code",
   "execution_count": 24,
   "metadata": {},
   "outputs": [],
   "source": [
    "def get_metrics_list(gold, pred):\n",
    "    \n",
    "    n = len(gold)\n",
    "\n",
    "    precisions = []\n",
    "    recalls = []\n",
    "    f1s = []\n",
    "\n",
    "    for i in range(n):\n",
    "\n",
    "        pred_correct = np.array([el in gold[i] for el in pred[i]])\n",
    "\n",
    "        tp = sum(pred_correct)\n",
    "        fp = sum(~pred_correct)\n",
    "        fn = sum([gol not in pred[i] for gol in gold[i]])\n",
    "\n",
    "        precision = tp / (tp + fp)\n",
    "        recall = tp / (tp + fn)\n",
    "        f1 = 2 * (precision * recall) / (precision + recall)\n",
    "\n",
    "        precisions.append(precision)\n",
    "        recalls.append(recall)\n",
    "        f1s.append(f1)\n",
    "\n",
    "    mean_precision = np.mean(precisions)\n",
    "    print(f'MeanPrec:{round(mean_precision,7)}')\n",
    "    \n",
    "    mean_recall = np.mean(recalls)\n",
    "    print(f'MeanRec:{round(mean_recall,7)}')\n",
    "\n",
    "    mean_f1 = np.mean(f1s)\n",
    "    print(f'MeanF1:{round(mean_f1,7)}')\n",
    "    \n",
    "    return mean_precision, mean_recall, mean_f1"
   ]
  }
 ],
 "metadata": {
  "kernelspec": {
   "display_name": "Python 3",
   "language": "python",
   "name": "python3"
  },
  "language_info": {
   "codemirror_mode": {
    "name": "ipython",
    "version": 3
   },
   "file_extension": ".py",
   "mimetype": "text/x-python",
   "name": "python",
   "nbconvert_exporter": "python",
   "pygments_lexer": "ipython3",
   "version": "3.8.3"
  }
 },
 "nbformat": 4,
 "nbformat_minor": 4
}
