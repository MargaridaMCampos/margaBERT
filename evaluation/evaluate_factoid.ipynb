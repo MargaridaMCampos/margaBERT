{
 "cells": [
  {
   "cell_type": "code",
   "execution_count": 1,
   "metadata": {},
   "outputs": [],
   "source": [
    "import numpy as np"
   ]
  },
  {
   "cell_type": "code",
   "execution_count": 2,
   "metadata": {},
   "outputs": [],
   "source": [
    "# Assuming we have n-sized list of gold exact answers and n-sized list of lists of 5 ordered predictions"
   ]
  },
  {
   "cell_type": "code",
   "execution_count": 30,
   "metadata": {},
   "outputs": [],
   "source": [
    "golden = ['spider', 'ant', 'cat', 'sky']\n",
    "pred = [['bank', 'spider', ' ', 'boat', 'fall'],\n",
    "       ['ant', 'spider', ' ', 'boat', 'fall'],\n",
    "       ['sky', 'spider', ' ', 'boat', 'cat'],\n",
    "       ['bank', 'spider', ' ', 'boat', 'fall']\n",
    "       ]"
   ]
  },
  {
   "cell_type": "code",
   "execution_count": 63,
   "metadata": {},
   "outputs": [],
   "source": [
    "def get_metrics_factoid(golden, pred):\n",
    "    \n",
    "    golden_ = np.array(golden)\n",
    "    pred_ = np.array(pred)\n",
    "    n = len(golden)\n",
    "    \n",
    "    # Strict Accuracy\n",
    "    strict_pred_= np.array([p[0] for p in pred])\n",
    "    strict_acc = sum(strict_pred_ == golden_) / n\n",
    "    print(f'SAcc: {100 * round(strict_acc,7)}%')\n",
    "    \n",
    "    # Leniant Accuracy\n",
    "    len_acc = sum( [ golden[i] in pred[i] for i in range(len(golden)) ] ) / n\n",
    "    print(f'LAcc: {100 * round(len_acc,7)}%')\n",
    "    \n",
    "    # Mean Reciprocal Rank - MRR\n",
    "    def get_rank(list_ , element):\n",
    "        if element in list_:\n",
    "            rank = list_.index(element)\n",
    "        else:\n",
    "            rank = float('inf')\n",
    "        return rank\n",
    "    \n",
    "    rank_ = np.array([ get_rank(pred[i], golden[i]) + 1 for i in range(n)])\n",
    "    inv_rank = 1/rank_\n",
    "    \n",
    "    mrr = sum(inv_rank) / n\n",
    "    print(f'MRR: {round(mrr,5)}')\n",
    "\n",
    "    return strict_acc, len_acc, mrr"
   ]
  },
  {
   "cell_type": "code",
   "execution_count": 64,
   "metadata": {},
   "outputs": [
    {
     "name": "stdout",
     "output_type": "stream",
     "text": [
      "SAcc: 25.0%\n",
      "LAcc: 75.0%\n",
      "MRR: 0.425\n"
     ]
    },
    {
     "data": {
      "text/plain": [
       "(0.25, 0.75, 0.425)"
      ]
     },
     "execution_count": 64,
     "metadata": {},
     "output_type": "execute_result"
    }
   ],
   "source": [
    "get_metrics_factoid(golden,pred)"
   ]
  },
  {
   "cell_type": "code",
   "execution_count": null,
   "metadata": {},
   "outputs": [],
   "source": []
  }
 ],
 "metadata": {
  "kernelspec": {
   "display_name": "Python 3",
   "language": "python",
   "name": "python3"
  },
  "language_info": {
   "codemirror_mode": {
    "name": "ipython",
    "version": 3
   },
   "file_extension": ".py",
   "mimetype": "text/x-python",
   "name": "python",
   "nbconvert_exporter": "python",
   "pygments_lexer": "ipython3",
   "version": "3.8.3"
  }
 },
 "nbformat": 4,
 "nbformat_minor": 4
}
